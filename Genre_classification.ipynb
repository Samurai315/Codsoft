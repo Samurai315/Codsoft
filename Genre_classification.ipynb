{
 "cells": [
  {
   "cell_type": "markdown",
   "id": "ddbc3e47-5cf8-4d26-809b-2bdf056dc459",
   "metadata": {},
   "source": [
    "## Training the Model"
   ]
  },
  {
   "cell_type": "code",
   "execution_count": 1,
   "id": "67bdaded-dff3-42ee-963b-a83c5750aa28",
   "metadata": {},
   "outputs": [
    {
     "name": "stderr",
     "output_type": "stream",
     "text": [
      "/home/vivek/.local/lib/python3.10/site-packages/sklearn/metrics/_classification.py:1517: UndefinedMetricWarning: Precision is ill-defined and being set to 0.0 in labels with no predicted samples. Use `zero_division` parameter to control this behavior.\n",
      "  _warn_prf(average, modifier, f\"{metric.capitalize()} is\", len(result))\n",
      "/home/vivek/.local/lib/python3.10/site-packages/sklearn/metrics/_classification.py:1517: UndefinedMetricWarning: Precision is ill-defined and being set to 0.0 in labels with no predicted samples. Use `zero_division` parameter to control this behavior.\n",
      "  _warn_prf(average, modifier, f\"{metric.capitalize()} is\", len(result))\n",
      "/home/vivek/.local/lib/python3.10/site-packages/sklearn/metrics/_classification.py:1517: UndefinedMetricWarning: Precision is ill-defined and being set to 0.0 in labels with no predicted samples. Use `zero_division` parameter to control this behavior.\n",
      "  _warn_prf(average, modifier, f\"{metric.capitalize()} is\", len(result))\n"
     ]
    },
    {
     "name": "stdout",
     "output_type": "stream",
     "text": [
      "              precision    recall  f1-score   support\n",
      "\n",
      "      action       0.55      0.21      0.30       263\n",
      "       adult       0.84      0.19      0.31       112\n",
      "   adventure       0.47      0.10      0.17       139\n",
      "   animation       0.75      0.03      0.06       104\n",
      "   biography       0.00      0.00      0.00        61\n",
      "      comedy       0.53      0.58      0.55      1443\n",
      "       crime       0.33      0.01      0.02       107\n",
      " documentary       0.65      0.86      0.74      2659\n",
      "       drama       0.53      0.81      0.64      2697\n",
      "      family       0.47      0.05      0.10       150\n",
      "     fantasy       0.00      0.00      0.00        74\n",
      "   game-show       0.92      0.30      0.45        40\n",
      "     history       0.00      0.00      0.00        45\n",
      "      horror       0.69      0.57      0.62       431\n",
      "       music       0.69      0.38      0.49       144\n",
      "     musical       0.00      0.00      0.00        50\n",
      "     mystery       0.00      0.00      0.00        56\n",
      "        news       0.00      0.00      0.00        34\n",
      "  reality-tv       0.48      0.10      0.17       192\n",
      "     romance       0.00      0.00      0.00       151\n",
      "      sci-fi       0.57      0.17      0.26       143\n",
      "       short       0.52      0.30      0.38      1045\n",
      "       sport       0.71      0.16      0.26        93\n",
      "   talk-show       0.58      0.09      0.15        81\n",
      "    thriller       0.40      0.12      0.18       309\n",
      "         war       0.00      0.00      0.00        20\n",
      "     western       0.95      0.67      0.79       200\n",
      "\n",
      "    accuracy                           0.58     10843\n",
      "   macro avg       0.43      0.21      0.25     10843\n",
      "weighted avg       0.55      0.58      0.53     10843\n",
      "\n"
     ]
    }
   ],
   "source": [
    "import pandas as pd\n",
    "from sklearn.feature_extraction.text import TfidfVectorizer\n",
    "from sklearn.linear_model import LogisticRegression\n",
    "from sklearn.pipeline import Pipeline\n",
    "from sklearn.model_selection import train_test_split\n",
    "from sklearn.metrics import classification_report\n",
    "from sklearn.feature_extraction.text import CountVectorizer\n",
    "\n",
    "# Load the training data\n",
    "train_data = pd.read_csv('train_data.txt', sep=' ::: ', engine='python', names=['ID', 'TITLE', 'GENRE', 'DESCRIPTION'])\n",
    "\n",
    "# Load the test data\n",
    "test_data = pd.read_csv('test_data.txt', sep=' ::: ', engine='python', names=['ID', 'TITLE', 'DESCRIPTION'])\n",
    "\n",
    "# Preprocess the data\n",
    "X_train = train_data['DESCRIPTION']\n",
    "y_train = train_data['GENRE']\n",
    "X_test = test_data['DESCRIPTION']\n",
    "\n",
    "# Split the training data for validation purposes\n",
    "X_train_split, X_val_split, y_train_split, y_val_split = train_test_split(X_train, y_train, test_size=0.2, random_state=42)\n",
    "\n",
    "# Create a pipeline with TF-IDF vectorizer and Logistic Regression classifier\n",
    "pipeline = Pipeline([\n",
    "    ('tfidf', TfidfVectorizer(stop_words='english')),\n",
    "    ('clf', LogisticRegression(max_iter=1000))\n",
    "])\n",
    "\n",
    "# Train the model\n",
    "pipeline.fit(X_train_split, y_train_split)\n",
    "\n",
    "# Make predictions on the validation data\n",
    "y_val_pred = pipeline.predict(X_val_split)\n",
    "\n",
    "# Evaluate the model\n",
    "print(classification_report(y_val_split, y_val_pred))\n",
    "\n",
    "# Make predictions on the test data\n",
    "test_predictions = pipeline.predict(X_test)"
   ]
  },
  {
   "cell_type": "markdown",
   "id": "4378c14f-6b98-49ec-b391-7cad3d694dce",
   "metadata": {},
   "source": [
    "## Exporting the model"
   ]
  },
  {
   "cell_type": "code",
   "execution_count": 2,
   "id": "9b2e642e-92db-4de3-a1de-0feb07e794f4",
   "metadata": {},
   "outputs": [
    {
     "name": "stdout",
     "output_type": "stream",
     "text": [
      "Model saved as imdb_genre_classifier.pkl\n"
     ]
    }
   ],
   "source": [
    "import joblib\n",
    "\n",
    "# Assuming 'pipeline' is your trained model pipeline from the previous code\n",
    "\n",
    "# Define a filename for your model\n",
    "model_filename = 'imdb_genre_classifier.pkl'\n",
    "\n",
    "# Save the model to a file using joblib\n",
    "joblib.dump(pipeline, model_filename)\n",
    "\n",
    "print(f\"Model saved as {model_filename}\")\n"
   ]
  },
  {
   "cell_type": "markdown",
   "id": "daf175db-a36e-4b59-868a-03ef1419d8d8",
   "metadata": {},
   "source": [
    "## Predicting the test data"
   ]
  },
  {
   "cell_type": "code",
   "execution_count": 3,
   "id": "3118811b-4bae-4b2e-a0a9-c4b6ee5f38df",
   "metadata": {},
   "outputs": [
    {
     "name": "stdout",
     "output_type": "stream",
     "text": [
      "Predictions saved to test_predictions.csv\n"
     ]
    }
   ],
   "source": [
    "import pandas as pd\n",
    "import joblib\n",
    "\n",
    "# Load the test data\n",
    "test_data = pd.read_csv('test_data.txt', sep=' ::: ', engine='python', names=['ID', 'TITLE', 'DESCRIPTION'])\n",
    "\n",
    "# Load the trained model\n",
    "model_filename = 'imdb_genre_classifier.pkl'\n",
    "loaded_model = joblib.load(model_filename)\n",
    "\n",
    "# Extract descriptions from test data\n",
    "X_test = test_data['DESCRIPTION']\n",
    "\n",
    "# Make predictions using the loaded model\n",
    "predictions = loaded_model.predict(X_test)\n",
    "\n",
    "# Prepare the output DataFrame\n",
    "output = pd.DataFrame({'ID': test_data['ID'], 'TITLE': test_data['TITLE'], 'PREDICTED_GENRE': predictions})\n",
    "\n",
    "# Save the predictions to a CSV file\n",
    "output.to_csv('test_predictions.csv', index=False)\n",
    "\n",
    "print(\"Predictions saved to test_predictions.csv\")\n"
   ]
  },
  {
   "cell_type": "code",
   "execution_count": 4,
   "id": "a15e8cb0-57f0-48b4-8399-c2ffe8121744",
   "metadata": {},
   "outputs": [
    {
     "data": {
      "text/plain": [
       "array(['comedy', 'drama', 'documentary', ..., 'drama', 'drama',\n",
       "       'documentary'], dtype=object)"
      ]
     },
     "execution_count": 4,
     "metadata": {},
     "output_type": "execute_result"
    }
   ],
   "source": [
    "test_predictions"
   ]
  }
 ],
 "metadata": {
  "kernelspec": {
   "display_name": "Python 3 (ipykernel)",
   "language": "python",
   "name": "python3"
  },
  "language_info": {
   "codemirror_mode": {
    "name": "ipython",
    "version": 3
   },
   "file_extension": ".py",
   "mimetype": "text/x-python",
   "name": "python",
   "nbconvert_exporter": "python",
   "pygments_lexer": "ipython3",
   "version": "3.10.12"
  }
 },
 "nbformat": 4,
 "nbformat_minor": 5
}
